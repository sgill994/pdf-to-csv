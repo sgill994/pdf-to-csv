{
 "cells": [
  {
   "cell_type": "markdown",
   "metadata": {},
   "source": [
    "Note: Run first block of 'extract_to_json_GPT.ipynb' to generate images if PNG files are not in directory."
   ]
  },
  {
   "cell_type": "code",
   "execution_count": null,
   "metadata": {},
   "outputs": [],
   "source": [
    "import os\n",
    "import base64\n",
    "import json\n",
    "import requests\n",
    "import pandas as pd\n",
    "from dotenv import load_dotenv\n",
    "\n",
    "# Load API Key\n",
    "load_dotenv()\n",
    "openai_api_key = os.getenv(\"OPENAI_API_KEY\")\n",
    "print(\"API key loaded:\", \"Yes\" if openai_api_key else \"No\")\n",
    "\n",
    "# Function to encode images for API request\n",
    "def encode_image(image_path):\n",
    "    with open(image_path, \"rb\") as img_file:\n",
    "        return base64.b64encode(img_file.read()).decode(\"utf-8\")\n",
    "\n",
    "# Function to query GPT-4o API with multiple images at once\n",
    "def query_gpt4o(image_paths, prompt):\n",
    "    headers = {\n",
    "        \"Content-Type\": \"application/json\",\n",
    "        \"Authorization\": f\"Bearer {openai_api_key}\"\n",
    "    }\n",
    "\n",
    "    # Encode all images and send in a single request\n",
    "    images_content = [\n",
    "        {\"type\": \"image_url\", \"image_url\": {\"url\": f\"data:image/png;base64,{encode_image(image_path)}\"}}\n",
    "        for image_path in image_paths\n",
    "    ]\n",
    "\n",
    "    payload = {\n",
    "        \"model\": \"gpt-4o\",\n",
    "        \"messages\": [\n",
    "            {\"role\": \"user\", \"content\": [{\"type\": \"text\", \"text\": prompt}] + images_content}\n",
    "        ],\n",
    "        \"max_tokens\": 4000 \n",
    "    }\n",
    "\n",
    "    response = requests.post(\"https://api.openai.com/v1/chat/completions\", headers=headers, json=payload)\n",
    "    result = response.json()\n",
    "\n",
    "    # Ensure raw text response (no JSON parsing issues)\n",
    "    return result[\"choices\"][0][\"message\"][\"content\"].strip()"
   ]
  },
  {
   "cell_type": "markdown",
   "metadata": {},
   "source": [
    "Issues with prompt below: \n",
    "1) Non-bold subsections (e.g. 2.2.1) are not being treated as Sections (being appended to Section Body Text in Parent Section).\n",
    "2) Includes Document Title as the first row (easier to fix through script vs. adding more instructions to prompt)."
   ]
  },
  {
   "cell_type": "code",
   "execution_count": null,
   "metadata": {},
   "outputs": [],
   "source": [
    "# Simple prompt for CSV extraction\n",
    "prompt_text = \"\"\"\n",
    "Extract and organize the contents of these PDF page images into CSV format with the following columns:\n",
    "Parent Section, Section Number, Section Title, Section Body Text, Section Start Page, Section End Page.\n",
    "\n",
    "- Section Numbers are located on the LEFT margin of the page. \n",
    "- IF a Section Number has a Section Title, it will appear to the right of the Section Number in BOLD, ELSE Section Title is BLANK\n",
    "- ALL text that appears after a Section Number belongs to that respective Section.\n",
    "- Preserve (insert) line breaks in Section Body Text so that it exactly matches original PDF text visually.\n",
    "    - Do not concatenate paragraphs as continuous text.\n",
    "    - Insert line breaks in paragraphs as they appear internally within the paragraph in the PDF visually.\n",
    "- Include Table and all Table Contents in Section Body Text within respective Section in which they appear.\n",
    "    - Append each cell of a table as a new line in Section Body Text, this is how the content of different columns will be separated.\n",
    "    - Do not insert a line break when moving to the next row of a table.\n",
    "    - Do not add any text (e.g. \"|\") that does not appear in the original PDF visually.\n",
    "    - Insert line breaks as they appear visually within table cell text contents.\n",
    "- End Page of a Section is assigned relative to the Start Page of the next Section of the same level or last page of document.\n",
    "End Page Examples: \n",
    "    - Section 1 End Page depends on Section 2 Start Page\n",
    "    - Section 2.1 End Page depends on Section 2.2 Start Page \n",
    "\n",
    "Return ONLY valid CSV output with NO additional explanations or markdown formatting.\n",
    "\"\"\"\n",
    "\n",
    "# List of images to process together\n",
    "image_paths = [\"page_1.png\", \"page_2.png\", \"page_3.png\", \"page_4.png\"]\n",
    "\n",
    "# Query GPT-4o with all images at once\n",
    "response_text = query_gpt4o(image_paths, prompt_text)\n",
    "\n",
    "# Save response as CSV\n",
    "with open(\"final_output_direct_GPT.csv\", \"w\", encoding=\"utf-8-sig\") as f:\n",
    "    f.write(response_text)"
   ]
  }
 ],
 "metadata": {
  "kernelspec": {
   "display_name": "Python 3",
   "language": "python",
   "name": "python3"
  },
  "language_info": {
   "codemirror_mode": {
    "name": "ipython",
    "version": 3
   },
   "file_extension": ".py",
   "mimetype": "text/x-python",
   "name": "python",
   "nbconvert_exporter": "python",
   "pygments_lexer": "ipython3",
   "version": "3.11.9"
  }
 },
 "nbformat": 4,
 "nbformat_minor": 2
}
